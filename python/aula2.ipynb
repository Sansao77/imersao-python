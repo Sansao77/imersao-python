{
 "cells": [
  {
   "cell_type": "code",
   "execution_count": null,
   "metadata": {},
   "outputs": [],
   "source": [
    "import pandas as pd"
   ]
  },
  {
   "cell_type": "code",
   "execution_count": null,
   "metadata": {},
   "outputs": [],
   "source": [
    "# Esta variável armazena os valores relacionados a a tabela 'Principal1' da planilha Excel\n",
    "df_principal1 = pd.read_excel('../Imersao_Python-Tabela_de_acoes.xlsx', sheet_name='Principal1')\n",
    "df_principal1.head(10) # Defini a quantidade de linhas que desejo visualizar"
   ]
  },
  {
   "cell_type": "code",
   "execution_count": null,
   "metadata": {},
   "outputs": [],
   "source": [
    "df_total_acoes = pd.read_excel('../Imersao_Python-Tabela_de_acoes.xlsx', sheet_name='Total_de_acoes')\n",
    "df_total_acoes.head(10)"
   ]
  },
  {
   "cell_type": "code",
   "execution_count": null,
   "metadata": {},
   "outputs": [],
   "source": [
    "df_ticker = pd.read_excel('../Imersao_Python-Tabela_de_acoes.xlsx', sheet_name='Ticker')\n",
    "df_ticker.head(10)"
   ]
  },
  {
   "cell_type": "code",
   "execution_count": null,
   "metadata": {},
   "outputs": [],
   "source": [
    "df_chat_gpt = pd.read_excel('../Imersao_Python-Tabela_de_acoes.xlsx', sheet_name='ChatGpt')\n",
    "df_chat_gpt.head(10)"
   ]
  }
 ],
 "metadata": {
  "kernelspec": {
   "display_name": "Python 3",
   "language": "python",
   "name": "python3"
  },
  "language_info": {
   "codemirror_mode": {
    "name": "ipython",
    "version": 3
   },
   "file_extension": ".py",
   "mimetype": "text/x-python",
   "name": "python",
   "nbconvert_exporter": "python",
   "pygments_lexer": "ipython3",
   "version": "3.12.2"
  }
 },
 "nbformat": 4,
 "nbformat_minor": 2
}
